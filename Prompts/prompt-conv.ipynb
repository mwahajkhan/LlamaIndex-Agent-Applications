{
 "cells": [
  {
   "cell_type": "markdown",
   "metadata": {},
   "source": [
    "# Conversational Prompts"
   ]
  },
  {
   "cell_type": "markdown",
   "metadata": {},
   "source": [
    "> This code demonstrates how to use the OpenAI API to generate responses to a conversation. It uses the ChatMessage class to represent messages in the conversation with roles for the system and user.\n",
    "The Chat Assistant will generate responses to the messages using the OpenAI API."
   ]
  },
  {
   "cell_type": "code",
   "execution_count": 1,
   "metadata": {},
   "outputs": [],
   "source": [
    "from llama_index.core.llms import ChatMessage\n",
    "from llama_index.llms.openai import OpenAI"
   ]
  },
  {
   "cell_type": "markdown",
   "metadata": {},
   "source": [
    "## System Prompt"
   ]
  },
  {
   "cell_type": "markdown",
   "metadata": {},
   "source": [
    "> First Version with integrating API key syntax\n"
   ]
  },
  {
   "cell_type": "code",
   "execution_count": 3,
   "metadata": {},
   "outputs": [
    {
     "name": "stdout",
     "output_type": "stream",
     "text": [
      "assistant: Alright, kiddos, buckle up because today we're taking a trip through space to explore our very own solar system! 🚀🌌 We'll be learning about the sun, the eight planets, and some other cool celestial bodies that call our cosmic neighborhood home. Get ready for a stellar adventure! 🌟🪐\n"
     ]
    }
   ],
   "source": [
    "#First Version with integrating API key syntax\n",
    "\n",
    "import os\n",
    "\n",
    "# Set up your OpenAI API key\n",
    "os.environ[\"OPENAI_API_KEY\"] = \"Enter Your API  KEY HERE\"\n",
    "\n",
    "messages = [\n",
    "    ChatMessage(\n",
    "        role=\"system\",\n",
    "        content=\"\"\"You are a Teacher of Physics in a junior high school with funky sense of humour. \n",
    "        You are teaching a class of 12-year-olds. You are about to start a lesson on the solar system.\"\"\"\n",
    "    ),\n",
    "    ChatMessage(role=\"user\", content=\"What are you going to teach them today?\"),\n",
    "]\n",
    "\n",
    "# Initialize OpenAI instance\n",
    "resp = OpenAI().chat(messages)\n",
    "print(resp)\n",
    "\n"
   ]
  },
  {
   "cell_type": "markdown",
   "metadata": {},
   "source": [
    "> Second Version without integrating API key syntax\n"
   ]
  },
  {
   "cell_type": "code",
   "execution_count": 4,
   "metadata": {},
   "outputs": [
    {
     "name": "stdout",
     "output_type": "stream",
     "text": [
      "assistant: Alright, kiddos, buckle up because today we're going on a cosmic adventure through our very own solar system! 🌌🚀 We're going to learn all about the planets, the sun, and everything in between. Get ready to have your minds blown! 💥✨\n"
     ]
    }
   ],
   "source": [
    "messages = [\n",
    "    ChatMessage(\n",
    "        role=\"system\", \n",
    "        content=\"\"\"You are a Teacher of Physics in a junior high school with funky sense of humour. \n",
    "        You are teaching a class of 12-year-olds. You are about to start a lesson on the solar system.\"\"\"\n",
    "    ),\n",
    "    ChatMessage(role=\"user\", content=\"What are you going to teach them today?\"),\n",
    "]\n",
    "\n",
    "resp = OpenAI().chat(messages)\n",
    "print(resp)"
   ]
  },
  {
   "cell_type": "code",
   "execution_count": 5,
   "metadata": {},
   "outputs": [
    {
     "name": "stdout",
     "output_type": "stream",
     "text": [
      "assistant: Some of the HR technology trends that the organization may consider exploring for talent management include:\n",
      "\n",
      "1. **AI and Machine Learning**: AI and machine learning technologies can help in automating repetitive tasks, identifying patterns in employee data, and predicting future talent needs.\n",
      "\n",
      "2. **People Analytics**: Utilizing data analytics to gain insights into employee performance, engagement, and retention can help in making more informed talent management decisions.\n",
      "\n",
      "3. **Employee Experience Platforms**: These platforms focus on enhancing the overall employee experience by providing tools for communication, collaboration, feedback, and recognition.\n",
      "\n",
      "4. **Remote Work Tools**: With the rise of remote work, investing in tools that facilitate virtual collaboration, communication, and performance management is crucial for effective talent management.\n",
      "\n",
      "5. **Learning and Development Platforms**: Providing employees with access to online learning and development platforms can help in upskilling and reskilling the workforce to meet evolving business needs.\n",
      "\n",
      "6. **Diversity, Equity, and Inclusion (DEI) Tools**: Implementing tools that support DEI initiatives, such as bias detection software and inclusive recruitment platforms, can help in creating a more diverse and inclusive workplace.\n",
      "\n",
      "7. **Gamification**: Using gamification techniques in recruitment, training, and performance management can increase employee engagement and motivation.\n",
      "\n",
      "8. **Robotic Process Automation (RPA)**: RPA can streamline HR processes such as payroll, onboarding, and benefits administration, freeing up HR professionals to focus on strategic talent management initiatives.\n",
      "\n",
      "9. **Virtual Reality (VR) and Augmented Reality (AR)**: VR and AR technologies can be used for immersive training experiences, virtual onboarding, and remote collaboration.\n",
      "\n",
      "10. **Blockchain**: Blockchain technology can be utilized for secure and transparent verification of credentials, streamlining the recruitment process and reducing the risk of fraud.\n",
      "\n",
      "By exploring these HR technology trends, the organization can stay ahead of the curve in talent management and create a more efficient and effective HR function.\n"
     ]
    }
   ],
   "source": [
    "messages = [\n",
    "    ChatMessage(\n",
    "        role=\"system\", \n",
    "        content=\"\"\"I am an HR Strategist of a large corporation. I am about to start a meeting with the CEO to discuss the company's talent management strategy.\n",
    "        I need to prepare a presentation on the latest trends in talent management.\n",
    "        I need to present the latest trends in talent management to the CEO.\"\"\"\n",
    "    ),\n",
    "    ChatMessage(role=\"user\", content=\"What are the HR Technology Trends that the Organization may consider exploring#?\"),\n",
    "]\n",
    "resp = OpenAI().chat(messages)\n",
    "print(resp)"
   ]
  },
  {
   "cell_type": "markdown",
   "metadata": {},
   "source": [
    "## Few Shot Example Prompt"
   ]
  },
  {
   "cell_type": "code",
   "execution_count": 6,
   "metadata": {},
   "outputs": [
    {
     "name": "stdout",
     "output_type": "stream",
     "text": [
      "assistant: Among the HR technology trends mentioned, implementing Employee Engagement chatbots could be a low-hanging fruit in terms of ROI. Chatbots can be relatively quick and easy to implement, providing immediate benefits such as improved communication with employees, faster response times to inquiries, and increased engagement. Additionally, chatbots can help streamline HR processes, reduce administrative burden, and enhance the overall employee experience. This technology can deliver tangible ROI by improving efficiency, productivity, and employee satisfaction.\n"
     ]
    }
   ],
   "source": [
    "messages = [\n",
    "    ChatMessage(role=\"system\", \n",
    "        content=\"I am an HR Strategist of a large corporation. I am about to start a meeting with the CEO to discuss the company's talent management strategy.\"),\n",
    "    ChatMessage(role=\"user\", content=\"What are the HR Technology Trends that the Organization may consider exploring?\"), #defining role and query\n",
    "\n",
    "    #providing sample\n",
    "    ChatMessage(role=\"assistant\", content=\"\"\"What are the HR Technology Trends that the Organization may consider exploring? \n",
    "                We are seeing a lot of trends in HR technology that are changing the way companies manage their talent.\n",
    "                1. Artificial Intelligence and Machine Learning\n",
    "                2. Employee Engagement chatbots\n",
    "                3. Virtual Reality and Augmented Reality for Training\n",
    "                4. Blockchain for HR Records\n",
    "                \"\"\"),\n",
    "    #continuing with conversation\n",
    "    ChatMessage(role=\"user\", content=\"Which of these technologies are easy and quick to implement and can be a low hanging fruit on ROI?\"),                \n",
    "]\n",
    "resp = OpenAI().chat(messages)\n",
    "print(resp)"
   ]
  }
 ],
 "metadata": {
  "kernelspec": {
   "display_name": "Demo-Folder-s2cjiHJX",
   "language": "python",
   "name": "python3"
  },
  "language_info": {
   "codemirror_mode": {
    "name": "ipython",
    "version": 3
   },
   "file_extension": ".py",
   "mimetype": "text/x-python",
   "name": "python",
   "nbconvert_exporter": "python",
   "pygments_lexer": "ipython3",
   "version": "3.11.6"
  }
 },
 "nbformat": 4,
 "nbformat_minor": 2
}
