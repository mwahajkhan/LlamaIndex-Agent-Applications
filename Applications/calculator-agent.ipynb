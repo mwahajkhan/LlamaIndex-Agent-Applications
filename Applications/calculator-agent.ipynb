{
 "cells": [
  {
   "cell_type": "markdown",
   "metadata": {},
   "source": [
    "## Simple ReAct Agent for Calculator\n",
    "The following code builds a Calculator.\n",
    "Tools are defined for each calculation function.\n",
    "Prompts provide a natural language question.\n",
    "A ReAct agent runs stepwise to generate the right outcome by using the right tools. "
   ]
  },
  {
   "cell_type": "code",
   "execution_count": 1,
   "metadata": {},
   "outputs": [],
   "source": [
    "from llama_index.core.agent import ReActAgent\n",
    "from llama_index.llms.openai import OpenAI\n",
    "from llama_index.core.tools import FunctionTool"
   ]
  },
  {
   "cell_type": "code",
   "execution_count": 2,
   "metadata": {},
   "outputs": [],
   "source": [
    "def add(a: float, b: float) -> float:\n",
    "  \"\"\"Add two numbers and returns the result\"\"\"\n",
    "  return a + b\n",
    "add_tool = FunctionTool.from_defaults(fn=add)\n",
    "\n",
    "def multiply(a: float, b: float) -> float:\n",
    "  \"\"\"Multiply two numbers and returns the result\"\"\"\n",
    "  return a * b\n",
    "multiply_tool = FunctionTool.from_defaults(fn=multiply)\n",
    "\n",
    "def subtract(a: float, b: float) -> float:\n",
    "  \"\"\"Subtract two numbers and returns the result\"\"\"\n",
    "  return a - b\n",
    "subtract_tool = FunctionTool.from_defaults(fn=subtract)\n",
    "\n",
    "def divide(a: float, b: float) -> float:\n",
    "  \"\"\"Divide two numbers and returns the result. Handles division by zero error\"\"\"\n",
    "  if b == 0:\n",
    "    raise ZeroDivisionError(\"Division by zero is not allowed\")\n",
    "  return a / b\n",
    "divide_tool = FunctionTool.from_defaults(fn=divide)\n",
    "\n",
    "# Scientific functions\n",
    "def power(a: float, b: float) -> float:\n",
    "  \"\"\"Raise a number to a power and returns the result\"\"\"\n",
    "  return a ** b\n",
    "power_tool = FunctionTool.from_defaults(fn=power)\n",
    "\n",
    "def factorial(n: int) -> int:\n",
    "  \"\"\"Calculate the factorial of a non-negative integer and returns the result\"\"\"\n",
    "  if n < 0:\n",
    "    raise ValueError(\"Factorial is not defined for negative numbers\")\n",
    "  if n == 0:\n",
    "    return 1\n",
    "  else:\n",
    "    return n * factorial(n-1)\n",
    "factorial_tool = FunctionTool.from_defaults(fn=factorial)\n",
    "\n",
    "def sine(x: float) -> float:\n",
    "  \"\"\"Calculate the sine of an angle in radians and returns the result. Uses the math library\"\"\"\n",
    "  import math\n",
    "  return math.sin(x)\n",
    "sine_tool = FunctionTool.from_defaults(fn=sine)\n",
    "\n",
    "def cosine(x: float) -> float:\n",
    "  \"\"\"Calculate the cosine of an angle in radians and returns the result. Uses the math library\"\"\"\n",
    "  import math\n",
    "  return math.cos(x)\n",
    "cosine_tool = FunctionTool.from_defaults(fn=cosine)\n",
    "\n",
    "def tangent(x: float) -> float:\n",
    "  \"\"\"Calculate the tangent of an angle in radians and returns the result. Handles division by zero error\"\"\"\n",
    "  if cosine(x) == 0:\n",
    "    raise ZeroDivisionError(\"Tangent is not defined for angles where cosine is zero\")\n",
    "  return sine(x) / cosine(x)\n",
    "tangent_tool = FunctionTool.from_defaults(fn=tangent)"
   ]
  },
  {
   "cell_type": "code",
   "execution_count": 3,
   "metadata": {},
   "outputs": [],
   "source": [
    "# list of tools\n",
    "\n",
    "tools = [multiply_tool, add_tool, subtract_tool, divide_tool, power_tool, factorial_tool, sine_tool, cosine_tool, tangent_tool]"
   ]
  },
  {
   "cell_type": "code",
   "execution_count": 6,
   "metadata": {},
   "outputs": [],
   "source": [
    "from dotenv import load_dotenv\n",
    "import os \n",
    "\n",
    "load_dotenv()\n",
    "api_key = os.getenv(\"OPENAI_API_KEY\")\n",
    "os.environ[\"OPENAI_API_KEY\"] = api_key\n",
    "\n",
    "llm = OpenAI(model=\"gpt-4o-mini\")\n",
    "agent = ReActAgent.from_tools(tools, llm=llm, verbose=True)"
   ]
  },
  {
   "cell_type": "code",
   "execution_count": 7,
   "metadata": {},
   "outputs": [
    {
     "name": "stdout",
     "output_type": "stream",
     "text": [
      "> Running step ed6f814e-33f3-4d28-a9f0-4434e029dc99. Step input: What is 20+(2*4)? Calculate step by step \n",
      "\u001b[1;3;38;5;200mThought: The current language of the user is: English. I need to perform the calculation step by step using the appropriate tools.\n",
      "Action: multiply\n",
      "Action Input: {'a': 2, 'b': 4}\n",
      "\u001b[0m\u001b[1;3;34mObservation: 8\n",
      "\u001b[0m> Running step 330dc081-dfc6-453d-a631-ef8c7abd4fd5. Step input: None\n",
      "\u001b[1;3;38;5;200mThought: Now that I have the result of the multiplication (2 * 4 = 8), I can proceed to add this result to 20.\n",
      "Action: add\n",
      "Action Input: {'a': 20, 'b': 8}\n",
      "\u001b[0m\u001b[1;3;34mObservation: 28\n",
      "\u001b[0m> Running step c31049ea-1eee-467c-bea2-56eb68acb81d. Step input: None\n",
      "\u001b[1;3;38;5;200mThought: I can answer without using any more tools. I'll use the user's language to answer.\n",
      "Answer: The result of the calculation 20 + (2 * 4) is 28.\n",
      "\u001b[0m"
     ]
    }
   ],
   "source": [
    "response = agent.chat(\"What is 20+(2*4)? Calculate step by step \")"
   ]
  },
  {
   "cell_type": "code",
   "execution_count": 8,
   "metadata": {},
   "outputs": [
    {
     "name": "stdout",
     "output_type": "stream",
     "text": [
      "> Running step 05bd8c21-dd69-4935-8c61-42c4f24b176e. Step input: Calculate cos(30) + tan(45)\n",
      "\u001b[1;3;38;5;200mThought: The current language of the user is: English. I need to use tools to calculate the cosine of 30 degrees and the tangent of 45 degrees, and then add the results together.\n",
      "Action: cosine\n",
      "Action Input: {'x': 0.5235987755982988}\n",
      "\u001b[0m\u001b[1;3;34mObservation: 0.8660254037844387\n",
      "\u001b[0m> Running step 77c8cbcd-910e-42fe-af10-168918ddcc83. Step input: None\n",
      "\u001b[1;3;38;5;200mThought: I have the result for cos(30), which is approximately 0.8660254037844387. Now I will calculate tan(45).\n",
      "Action: tangent\n",
      "Action Input: {'x': 0.7853981633974483}\n",
      "\u001b[0m\u001b[1;3;34mObservation: 0.9999999999999999\n",
      "\u001b[0m> Running step 966ef358-9a91-4aef-bedf-ad6d8c892454. Step input: None\n",
      "\u001b[1;3;38;5;200mThought: I have the result for tan(45), which is approximately 0.9999999999999999. Now I will add the two results together: cos(30) + tan(45).\n",
      "Action: add\n",
      "Action Input: {'a': 0.8660254037844387, 'b': 0.9999999999999999}\n",
      "\u001b[0m\u001b[1;3;34mObservation: 1.8660254037844386\n",
      "\u001b[0m> Running step d1f7761a-e357-4461-a3de-33ff8dc21a1e. Step input: None\n",
      "\u001b[1;3;38;5;200mThought: I can answer without using any more tools. I'll use the user's language to answer.\n",
      "Answer: The result of cos(30) + tan(45) is approximately 1.866.\n",
      "\u001b[0m"
     ]
    }
   ],
   "source": [
    "response = agent.query(\"Calculate cos(30) + tan(45)\")"
   ]
  },
  {
   "cell_type": "code",
   "execution_count": null,
   "metadata": {},
   "outputs": [],
   "source": []
  },
  {
   "cell_type": "code",
   "execution_count": null,
   "metadata": {},
   "outputs": [],
   "source": []
  }
 ],
 "metadata": {
  "kernelspec": {
   "display_name": "Demo-Folder-s2cjiHJX",
   "language": "python",
   "name": "python3"
  },
  "language_info": {
   "codemirror_mode": {
    "name": "ipython",
    "version": 3
   },
   "file_extension": ".py",
   "mimetype": "text/x-python",
   "name": "python",
   "nbconvert_exporter": "python",
   "pygments_lexer": "ipython3",
   "version": "3.11.6"
  }
 },
 "nbformat": 4,
 "nbformat_minor": 2
}
